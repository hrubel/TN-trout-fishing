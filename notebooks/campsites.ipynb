{
 "cells": [
  {
   "cell_type": "code",
   "execution_count": 1,
   "metadata": {},
   "outputs": [],
   "source": [
    "from shapely.geometry import Point\n",
    "import pandas as pd\n",
    "import geopandas as gpd\n",
    "import matplotlib.pyplot as plt\n",
    "import folium\n",
    "from folium.plugins import MarkerCluster\n",
    "from folium.plugins import FastMarkerCluster\n",
    "\n",
    "%matplotlib inline"
   ]
  },
  {
   "cell_type": "code",
   "execution_count": 2,
   "metadata": {},
   "outputs": [
    {
     "name": "stdout",
     "output_type": "stream",
     "text": [
      "epsg:4326\n"
     ]
    },
    {
     "data": {
      "text/html": [
       "<div>\n",
       "<style scoped>\n",
       "    .dataframe tbody tr th:only-of-type {\n",
       "        vertical-align: middle;\n",
       "    }\n",
       "\n",
       "    .dataframe tbody tr th {\n",
       "        vertical-align: top;\n",
       "    }\n",
       "\n",
       "    .dataframe thead th {\n",
       "        text-align: right;\n",
       "    }\n",
       "</style>\n",
       "<table border=\"1\" class=\"dataframe\">\n",
       "  <thead>\n",
       "    <tr style=\"text-align: right;\">\n",
       "      <th></th>\n",
       "      <th>FID</th>\n",
       "      <th>TSP_CMPSTE_UID</th>\n",
       "      <th>TSP_CMPGRD_UID</th>\n",
       "      <th>SITE_NO</th>\n",
       "      <th>SITE_NAME</th>\n",
       "      <th>ITINIO_ID</th>\n",
       "      <th>TSP_UID</th>\n",
       "      <th>PARK_NAME</th>\n",
       "      <th>geometry</th>\n",
       "    </tr>\n",
       "  </thead>\n",
       "  <tbody>\n",
       "    <tr>\n",
       "      <th>0</th>\n",
       "      <td>1</td>\n",
       "      <td>TSP-0167-00-01-006</td>\n",
       "      <td>TSP-0167-00-01</td>\n",
       "      <td>6</td>\n",
       "      <td>Campsite 6</td>\n",
       "      <td>4_180</td>\n",
       "      <td>TSP-0168</td>\n",
       "      <td>Meeman-Shelby Forest State Park</td>\n",
       "      <td>POINT (-90.04724 35.34502)</td>\n",
       "    </tr>\n",
       "    <tr>\n",
       "      <th>1</th>\n",
       "      <td>2</td>\n",
       "      <td>TSP-0225-00-01-032</td>\n",
       "      <td>TSP-0225-00-01</td>\n",
       "      <td>32H</td>\n",
       "      <td>Campsite 32H</td>\n",
       "      <td>22_834</td>\n",
       "      <td>TSP-0225</td>\n",
       "      <td>Rock Island State Park</td>\n",
       "      <td>POINT (-85.64584 35.81251)</td>\n",
       "    </tr>\n",
       "    <tr>\n",
       "      <th>2</th>\n",
       "      <td>3</td>\n",
       "      <td>TSP-0279-00-02-147</td>\n",
       "      <td>TSP-0279-00-02</td>\n",
       "      <td>78</td>\n",
       "      <td>Fairview Campsite 78</td>\n",
       "      <td>24_1027</td>\n",
       "      <td>TSP-0279</td>\n",
       "      <td>Tims Ford State Park</td>\n",
       "      <td>POINT (-86.16014 35.20048)</td>\n",
       "    </tr>\n",
       "    <tr>\n",
       "      <th>3</th>\n",
       "      <td>4</td>\n",
       "      <td>TSP-0171-00-01-091</td>\n",
       "      <td>TSP-0171-00-01</td>\n",
       "      <td>103</td>\n",
       "      <td>Campsite 103</td>\n",
       "      <td>18_655</td>\n",
       "      <td>TSP-0171</td>\n",
       "      <td>Montgomery Bell State Park</td>\n",
       "      <td>POINT (-87.28788 36.09856)</td>\n",
       "    </tr>\n",
       "    <tr>\n",
       "      <th>4</th>\n",
       "      <td>5</td>\n",
       "      <td>TSP-0171-00-01-079</td>\n",
       "      <td>TSP-0171-00-01</td>\n",
       "      <td>91</td>\n",
       "      <td>Campsite 91</td>\n",
       "      <td>18_643</td>\n",
       "      <td>TSP-0171</td>\n",
       "      <td>Montgomery Bell State Park</td>\n",
       "      <td>POINT (-87.28752 36.09938)</td>\n",
       "    </tr>\n",
       "  </tbody>\n",
       "</table>\n",
       "</div>"
      ],
      "text/plain": [
       "   FID      TSP_CMPSTE_UID  TSP_CMPGRD_UID SITE_NO             SITE_NAME  \\\n",
       "0    1  TSP-0167-00-01-006  TSP-0167-00-01       6            Campsite 6   \n",
       "1    2  TSP-0225-00-01-032  TSP-0225-00-01     32H          Campsite 32H   \n",
       "2    3  TSP-0279-00-02-147  TSP-0279-00-02      78  Fairview Campsite 78   \n",
       "3    4  TSP-0171-00-01-091  TSP-0171-00-01     103          Campsite 103   \n",
       "4    5  TSP-0171-00-01-079  TSP-0171-00-01      91           Campsite 91   \n",
       "\n",
       "  ITINIO_ID   TSP_UID                        PARK_NAME  \\\n",
       "0     4_180  TSP-0168  Meeman-Shelby Forest State Park   \n",
       "1    22_834  TSP-0225           Rock Island State Park   \n",
       "2   24_1027  TSP-0279             Tims Ford State Park   \n",
       "3    18_655  TSP-0171       Montgomery Bell State Park   \n",
       "4    18_643  TSP-0171       Montgomery Bell State Park   \n",
       "\n",
       "                     geometry  \n",
       "0  POINT (-90.04724 35.34502)  \n",
       "1  POINT (-85.64584 35.81251)  \n",
       "2  POINT (-86.16014 35.20048)  \n",
       "3  POINT (-87.28788 36.09856)  \n",
       "4  POINT (-87.28752 36.09938)  "
      ]
     },
     "execution_count": 2,
     "metadata": {},
     "output_type": "execute_result"
    }
   ],
   "source": [
    "camp = gpd.read_file('../data/TN_State_Parks_Campsites.geojson')\n",
    "print(camp.crs)\n",
    "camp.head()"
   ]
  },
  {
   "cell_type": "code",
   "execution_count": 3,
   "metadata": {},
   "outputs": [
    {
     "data": {
      "text/plain": [
       "(3238, 9)"
      ]
     },
     "execution_count": 3,
     "metadata": {},
     "output_type": "execute_result"
    }
   ],
   "source": [
    "camp.shape"
   ]
  },
  {
   "cell_type": "code",
   "execution_count": null,
   "metadata": {},
   "outputs": [],
   "source": []
  }
 ],
 "metadata": {
  "kernelspec": {
   "display_name": "Python 3",
   "language": "python",
   "name": "python3"
  },
  "language_info": {
   "codemirror_mode": {
    "name": "ipython",
    "version": 3
   },
   "file_extension": ".py",
   "mimetype": "text/x-python",
   "name": "python",
   "nbconvert_exporter": "python",
   "pygments_lexer": "ipython3",
   "version": "3.8.5"
  }
 },
 "nbformat": 4,
 "nbformat_minor": 4
}
